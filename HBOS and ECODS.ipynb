{
 "cells": [
  {
   "cell_type": "markdown",
   "metadata": {},
   "source": [
    "# Section1: Load Libraries"
   ]
  },
  {
   "cell_type": "code",
   "execution_count": 120,
   "metadata": {},
   "outputs": [],
   "source": [
    "# Import packages\n",
    "import numpy as np\n",
    "import pandas as pd\n",
    "import seaborn as sns\n",
    "import matplotlib.pyplot as plt\n",
    "%matplotlib inline\n",
    "import plotly.express as px\n",
    "from datetime import datetime\n",
    "#!pip install pyod\n",
    "from pyod.models.hbos import HBOS\n",
    "from pyod.models.ecod import ECOD\n",
    "from pyod.models.pca import PCA\n",
    "#!pip install combo\n",
    "from pyod.models.combination import aom, moa, average, maximization\n",
    "from pyod.utils.utility import standardizer"
   ]
  },
  {
   "cell_type": "markdown",
   "metadata": {},
   "source": [
    "# Section2: Load Data"
   ]
  },
  {
   "cell_type": "code",
   "execution_count": 2,
   "metadata": {},
   "outputs": [],
   "source": [
    "df = pd.read_csv('purchase_credit_card.csv')"
   ]
  },
  {
   "cell_type": "markdown",
   "metadata": {},
   "source": []
  },
  {
   "cell_type": "code",
   "execution_count": 3,
   "metadata": {},
   "outputs": [
    {
     "data": {
      "text/html": [
       "<div>\n",
       "<style scoped>\n",
       "    .dataframe tbody tr th:only-of-type {\n",
       "        vertical-align: middle;\n",
       "    }\n",
       "\n",
       "    .dataframe tbody tr th {\n",
       "        vertical-align: top;\n",
       "    }\n",
       "\n",
       "    .dataframe thead th {\n",
       "        text-align: right;\n",
       "    }\n",
       "</style>\n",
       "<table border=\"1\" class=\"dataframe\">\n",
       "  <thead>\n",
       "    <tr style=\"text-align: right;\">\n",
       "      <th></th>\n",
       "      <th>Year-Month</th>\n",
       "      <th>Agency Number</th>\n",
       "      <th>Agency Name</th>\n",
       "      <th>Cardholder Last Name</th>\n",
       "      <th>Cardholder First Initial</th>\n",
       "      <th>Description</th>\n",
       "      <th>Amount</th>\n",
       "      <th>Vendor</th>\n",
       "      <th>Transaction Date</th>\n",
       "      <th>Posted Date</th>\n",
       "      <th>Merchant Category Code (MCC)</th>\n",
       "    </tr>\n",
       "  </thead>\n",
       "  <tbody>\n",
       "    <tr>\n",
       "      <th>0</th>\n",
       "      <td>201307</td>\n",
       "      <td>1000</td>\n",
       "      <td>OKLAHOMA STATE UNIVERSITY</td>\n",
       "      <td>Mason</td>\n",
       "      <td>C</td>\n",
       "      <td>GENERAL PURCHASE</td>\n",
       "      <td>890.00</td>\n",
       "      <td>NACAS</td>\n",
       "      <td>07/30/2013 12:00:00 AM</td>\n",
       "      <td>07/31/2013 12:00:00 AM</td>\n",
       "      <td>CHARITABLE AND SOCIAL SERVICE ORGANIZATIONS</td>\n",
       "    </tr>\n",
       "    <tr>\n",
       "      <th>1</th>\n",
       "      <td>201307</td>\n",
       "      <td>1000</td>\n",
       "      <td>OKLAHOMA STATE UNIVERSITY</td>\n",
       "      <td>Mason</td>\n",
       "      <td>C</td>\n",
       "      <td>ROOM CHARGES</td>\n",
       "      <td>368.96</td>\n",
       "      <td>SHERATON HOTEL</td>\n",
       "      <td>07/30/2013 12:00:00 AM</td>\n",
       "      <td>07/31/2013 12:00:00 AM</td>\n",
       "      <td>SHERATON</td>\n",
       "    </tr>\n",
       "    <tr>\n",
       "      <th>2</th>\n",
       "      <td>201307</td>\n",
       "      <td>1000</td>\n",
       "      <td>OKLAHOMA STATE UNIVERSITY</td>\n",
       "      <td>Massey</td>\n",
       "      <td>J</td>\n",
       "      <td>GENERAL PURCHASE</td>\n",
       "      <td>165.82</td>\n",
       "      <td>SEARS.COM 9300</td>\n",
       "      <td>07/29/2013 12:00:00 AM</td>\n",
       "      <td>07/31/2013 12:00:00 AM</td>\n",
       "      <td>DIRCT MARKETING/DIRCT MARKETERS--NOT ELSEWHERE...</td>\n",
       "    </tr>\n",
       "    <tr>\n",
       "      <th>3</th>\n",
       "      <td>201307</td>\n",
       "      <td>1000</td>\n",
       "      <td>OKLAHOMA STATE UNIVERSITY</td>\n",
       "      <td>Massey</td>\n",
       "      <td>T</td>\n",
       "      <td>GENERAL PURCHASE</td>\n",
       "      <td>96.39</td>\n",
       "      <td>WAL-MART #0137</td>\n",
       "      <td>07/30/2013 12:00:00 AM</td>\n",
       "      <td>07/31/2013 12:00:00 AM</td>\n",
       "      <td>GROCERY STORES,AND SUPERMARKETS</td>\n",
       "    </tr>\n",
       "    <tr>\n",
       "      <th>4</th>\n",
       "      <td>201307</td>\n",
       "      <td>1000</td>\n",
       "      <td>OKLAHOMA STATE UNIVERSITY</td>\n",
       "      <td>Mauro-Herrera</td>\n",
       "      <td>M</td>\n",
       "      <td>HAMMERMILL COPY PLUS COPY EA</td>\n",
       "      <td>125.96</td>\n",
       "      <td>STAPLES DIRECT</td>\n",
       "      <td>07/30/2013 12:00:00 AM</td>\n",
       "      <td>07/31/2013 12:00:00 AM</td>\n",
       "      <td>STATIONERY, OFFICE SUPPLIES, PRINTING AND WRIT...</td>\n",
       "    </tr>\n",
       "  </tbody>\n",
       "</table>\n",
       "</div>"
      ],
      "text/plain": [
       "   Year-Month  Agency Number                Agency Name Cardholder Last Name  \\\n",
       "0      201307           1000  OKLAHOMA STATE UNIVERSITY                Mason   \n",
       "1      201307           1000  OKLAHOMA STATE UNIVERSITY                Mason   \n",
       "2      201307           1000  OKLAHOMA STATE UNIVERSITY               Massey   \n",
       "3      201307           1000  OKLAHOMA STATE UNIVERSITY               Massey   \n",
       "4      201307           1000  OKLAHOMA STATE UNIVERSITY        Mauro-Herrera   \n",
       "\n",
       "  Cardholder First Initial                   Description  Amount  \\\n",
       "0                        C              GENERAL PURCHASE  890.00   \n",
       "1                        C                  ROOM CHARGES  368.96   \n",
       "2                        J              GENERAL PURCHASE  165.82   \n",
       "3                        T              GENERAL PURCHASE   96.39   \n",
       "4                        M  HAMMERMILL COPY PLUS COPY EA  125.96   \n",
       "\n",
       "           Vendor        Transaction Date             Posted Date  \\\n",
       "0           NACAS  07/30/2013 12:00:00 AM  07/31/2013 12:00:00 AM   \n",
       "1  SHERATON HOTEL  07/30/2013 12:00:00 AM  07/31/2013 12:00:00 AM   \n",
       "2  SEARS.COM 9300  07/29/2013 12:00:00 AM  07/31/2013 12:00:00 AM   \n",
       "3  WAL-MART #0137  07/30/2013 12:00:00 AM  07/31/2013 12:00:00 AM   \n",
       "4  STAPLES DIRECT  07/30/2013 12:00:00 AM  07/31/2013 12:00:00 AM   \n",
       "\n",
       "                        Merchant Category Code (MCC)  \n",
       "0        CHARITABLE AND SOCIAL SERVICE ORGANIZATIONS  \n",
       "1                                           SHERATON  \n",
       "2  DIRCT MARKETING/DIRCT MARKETERS--NOT ELSEWHERE...  \n",
       "3                    GROCERY STORES,AND SUPERMARKETS  \n",
       "4  STATIONERY, OFFICE SUPPLIES, PRINTING AND WRIT...  "
      ]
     },
     "execution_count": 3,
     "metadata": {},
     "output_type": "execute_result"
    }
   ],
   "source": [
    "df.head()"
   ]
  },
  {
   "cell_type": "code",
   "execution_count": 4,
   "metadata": {},
   "outputs": [],
   "source": [
    "# change column names \n",
    "df.columns = ['Year_Month', 'Agency_Number', 'Agency_Name', 'Cardholder_Last_Name',\n",
    "      'Cardholder_First_Initial', 'Description', 'Amount', 'Vendor', 'Transaction_Date',\n",
    "      'Posted_Date', 'Merchant_Category']"
   ]
  },
  {
   "cell_type": "code",
   "execution_count": 5,
   "metadata": {},
   "outputs": [
    {
     "name": "stdout",
     "output_type": "stream",
     "text": [
      "Year_Month                    int64\n",
      "Agency_Number                 int64\n",
      "Agency_Name                  object\n",
      "Cardholder_Last_Name         object\n",
      "Cardholder_First_Initial     object\n",
      "Description                  object\n",
      "Amount                      float64\n",
      "Vendor                       object\n",
      "Transaction_Date             object\n",
      "Posted_Date                  object\n",
      "Merchant_Category            object\n",
      "dtype: object\n"
     ]
    }
   ],
   "source": [
    "print(df.dtypes)"
   ]
  },
  {
   "cell_type": "code",
   "execution_count": 29,
   "metadata": {},
   "outputs": [
    {
     "data": {
      "text/plain": [
       "Wednesday    89644\n",
       "Thursday     87537\n",
       "Tuesday      86919\n",
       "Friday       79917\n",
       "Monday       61809\n",
       "Saturday     26307\n",
       "Sunday       10325\n",
       "Name: Day_of_Week, dtype: int64"
      ]
     },
     "execution_count": 29,
     "metadata": {},
     "output_type": "execute_result"
    }
   ],
   "source": [
    "#Converting Transaction_Date and Posted_date from Python Object data type to datetime\n",
    "df['Transaction_Date']=pd.to_datetime(df['Transaction_Date'])\n",
    "df['Posted_Date']=pd.to_datetime(df['Posted_Date'])\n",
    "#Creating separate Year and Month columns for future feature engineering\n",
    "df['Year_Month'].dtype\n",
    "df['Year_Month']=pd.to_datetime(df['Year_Month'], format='%Y%m')\n",
    "df['Year'] = df['Year_Month'].dt.year\n",
    "df['Month'] = df['Year_Month'].dt.month\n",
    "#Creating 'Week_Number' from 'Transaction_Date'\n",
    "df['Week_Number'] = df['Transaction_Date'].dt.isocalendar().week\n",
    "\n",
    "#Creating 'Day_of_Week' from 'Transaction_Date'\n",
    "dayOfWeek={0:'Monday', 1:'Tuesday', 2:'Wednesday', 3:'Thursday', 4:'Friday', 5:'Saturday', 6:'Sunday'}\n",
    "df['Day_of_Week'] = df['Transaction_Date'].dt.dayofweek.map(dayOfWeek)\n",
    "\n",
    "df['Day_of_Week'].value_counts()"
   ]
  },
  {
   "cell_type": "markdown",
   "metadata": {},
   "source": [
    "# Section3: HBOS"
   ]
  },
  {
   "cell_type": "markdown",
   "metadata": {},
   "source": [
    "## Histogram-based Outlier Score (HBOS)\n",
    "    It constructs histograms for variables and uses them to define the \"outlier-ness\" of the variables. For numerical variables, it is binned by values and for categorical variables, it is binned by counts. While the maximum height of each histogram is normalized to 1, observations that do not belong to a bin with large height values may be potential anomalies."
   ]
  },
  {
   "cell_type": "markdown",
   "metadata": {},
   "source": [
    "## 3.1: Build Model"
   ]
  },
  {
   "cell_type": "code",
   "execution_count": 25,
   "metadata": {},
   "outputs": [],
   "source": [
    "# Set up model\n",
    "n_bins = 1000\n",
    "hbos = HBOS(n_bins=n_bins,contamination=0.05)\n"
   ]
  },
  {
   "cell_type": "markdown",
   "metadata": {},
   "source": [
    "## 3.2: Summary Statistics"
   ]
  },
  {
   "cell_type": "code",
   "execution_count": 26,
   "metadata": {},
   "outputs": [],
   "source": [
    "def descriptive_stat_threshold(df, pred_score, threshold):\n",
    "    # Let's see how many '0's and '1's.\n",
    "    df = pd.DataFrame(df)\n",
    "    data = df.copy()\n",
    "    data['Anomaly_Score'] = pred_score\n",
    "    data['Group'] = np.where(data['Anomaly_Score']< threshold, 'Normal', 'Outlier')\n",
    "\n",
    "    # Now let's show the summary statistics:\n",
    "    cnt = data.groupby('Group')['Anomaly_Score'].count().reset_index().rename(columns={'Anomaly_Score':'Count'})\n",
    "    cnt['Count %'] = (cnt['Count'] / cnt['Count'].sum()) * 100 # The count and count %\n",
    "    stat = data.groupby('Group').mean().round(2).reset_index() # The avg.\n",
    "    stat = cnt.merge(stat, left_on='Group',right_on='Group') # Put the count and the avg. together\n",
    "    return (stat)\n"
   ]
  },
  {
   "cell_type": "markdown",
   "metadata": {},
   "source": [
    "The table shows the characteristics of the normal and abnormal groups. The “Anomaly_Score” is the average anomaly score, large difference of this score verifies the data in the outlier group are outliers."
   ]
  },
  {
   "cell_type": "markdown",
   "metadata": {},
   "source": [
    "## 3.3: Aggregated Average"
   ]
  },
  {
   "cell_type": "code",
   "execution_count": 27,
   "metadata": {},
   "outputs": [],
   "source": [
    "def norm_scores(feature):\n",
    "    feature = pd.DataFrame(feature)\n",
    "    # Standardize data\n",
    "    feature_norm = standardizer(feature)\n",
    "\n",
    "    # Test a range of binning \n",
    "    k_list = [5, 10, 15, 20, 25, 30, 50, 60, 75, 100]\n",
    "    n_clf = len(k_list)\n",
    "    # Just prepare data frames so we can store the model results\n",
    "    feature_scores = np.zeros([feature.shape[0], n_clf])\n",
    "\n",
    "    # Modeling\n",
    "    for i in range(n_clf):\n",
    "        k = k_list[i]\n",
    "        hbos = HBOS(n_bins=n_bins)\n",
    "        hbos.fit(feature_norm)\n",
    "        # Store the results in each column:\n",
    "        feature_scores[:, i] = hbos.decision_function(feature_norm) \n",
    "    # Decision scores have to be normalized before combination\n",
    "    scores_norm = standardizer(feature_scores)\n",
    "    \n",
    "    # Combination by average\n",
    "    # The scores_norm is 500 x 10. The \"average\" function will take the average of the 10 columns. The result \"y_by_average\" is a single column: \n",
    "    feature_by_average = average(scores_norm)\n",
    "    plt.hist(feature_by_average, bins='auto') # arguments are passed to np.histogram\n",
    "    plt.title(\"Combination by average\")\n",
    "    plt.show()\n"
   ]
  },
  {
   "cell_type": "markdown",
   "metadata": {},
   "source": [
    "Stable outcomes can be produced by building HBOS models with a range of histogram widths to obtain multiple scores then aggregate the scores. It can help avoid overfitting and increase the prediction accuracy. The feature will be normalized before aggregating. The average method with 10 HBOS bins will be used in the following report."
   ]
  },
  {
   "cell_type": "markdown",
   "metadata": {},
   "source": [
    "# Section4: Features"
   ]
  },
  {
   "cell_type": "markdown",
   "metadata": {},
   "source": [
    "## Feature 1: The ratio to average (Agent_Name, Marchant_Category)"
   ]
  },
  {
   "cell_type": "code",
   "execution_count": 32,
   "metadata": {},
   "outputs": [
    {
     "data": {
      "text/html": [
       "<div>\n",
       "<style scoped>\n",
       "    .dataframe tbody tr th:only-of-type {\n",
       "        vertical-align: middle;\n",
       "    }\n",
       "\n",
       "    .dataframe tbody tr th {\n",
       "        vertical-align: top;\n",
       "    }\n",
       "\n",
       "    .dataframe thead th {\n",
       "        text-align: right;\n",
       "    }\n",
       "</style>\n",
       "<table border=\"1\" class=\"dataframe\">\n",
       "  <thead>\n",
       "    <tr style=\"text-align: right;\">\n",
       "      <th></th>\n",
       "      <th></th>\n",
       "      <th>AVG_amount</th>\n",
       "    </tr>\n",
       "    <tr>\n",
       "      <th>Agency_Name</th>\n",
       "      <th>Merchant_Category</th>\n",
       "      <th></th>\n",
       "    </tr>\n",
       "  </thead>\n",
       "  <tbody>\n",
       "    <tr>\n",
       "      <th rowspan=\"5\" valign=\"top\">ARDMORE HIGHER EDUCATION CENTER</th>\n",
       "      <th>BUSINESS SERVICES NOT ELSEWHERE CLASSIFIED</th>\n",
       "      <td>115.120000</td>\n",
       "    </tr>\n",
       "    <tr>\n",
       "      <th>CATALOG MERCHANTS</th>\n",
       "      <td>-53.344286</td>\n",
       "    </tr>\n",
       "    <tr>\n",
       "      <th>COMPUTER NETWORK/INFORMATION SERVICES</th>\n",
       "      <td>18.340000</td>\n",
       "    </tr>\n",
       "    <tr>\n",
       "      <th>DRUG STORES AND PHARMACIES</th>\n",
       "      <td>153.450000</td>\n",
       "    </tr>\n",
       "    <tr>\n",
       "      <th>GROCERY STORES,AND SUPERMARKETS</th>\n",
       "      <td>74.525455</td>\n",
       "    </tr>\n",
       "    <tr>\n",
       "      <th>...</th>\n",
       "      <th>...</th>\n",
       "      <td>...</td>\n",
       "    </tr>\n",
       "    <tr>\n",
       "      <th rowspan=\"5\" valign=\"top\">`DEPARTMENT OF EDUCATION</th>\n",
       "      <th>TELECOMMUNICATION SERVICES</th>\n",
       "      <td>118.054000</td>\n",
       "    </tr>\n",
       "    <tr>\n",
       "      <th>TRAVEL AGENCIES</th>\n",
       "      <td>24.253731</td>\n",
       "    </tr>\n",
       "    <tr>\n",
       "      <th>TROPICANA RESORT AND CASINO</th>\n",
       "      <td>481.600000</td>\n",
       "    </tr>\n",
       "    <tr>\n",
       "      <th>UNITED AIRLINES</th>\n",
       "      <td>310.547368</td>\n",
       "    </tr>\n",
       "    <tr>\n",
       "      <th>WYNDHAM HOTELS</th>\n",
       "      <td>93.282857</td>\n",
       "    </tr>\n",
       "  </tbody>\n",
       "</table>\n",
       "<p>8427 rows × 1 columns</p>\n",
       "</div>"
      ],
      "text/plain": [
       "                                                                            AVG_amount\n",
       "Agency_Name                     Merchant_Category                                     \n",
       "ARDMORE HIGHER EDUCATION CENTER BUSINESS SERVICES NOT ELSEWHERE CLASSIFIED  115.120000\n",
       "                                CATALOG MERCHANTS                           -53.344286\n",
       "                                COMPUTER NETWORK/INFORMATION SERVICES        18.340000\n",
       "                                DRUG STORES AND PHARMACIES                  153.450000\n",
       "                                GROCERY STORES,AND SUPERMARKETS              74.525455\n",
       "...                                                                                ...\n",
       "`DEPARTMENT OF EDUCATION        TELECOMMUNICATION SERVICES                  118.054000\n",
       "                                TRAVEL AGENCIES                              24.253731\n",
       "                                TROPICANA RESORT AND CASINO                 481.600000\n",
       "                                UNITED AIRLINES                             310.547368\n",
       "                                WYNDHAM HOTELS                               93.282857\n",
       "\n",
       "[8427 rows x 1 columns]"
      ]
     },
     "execution_count": 32,
     "metadata": {},
     "output_type": "execute_result"
    }
   ],
   "source": [
    "# create average spending group by agency and merchant category \n",
    "stat_by_agency = df.groupby(['Agency_Name', 'Merchant_Category'])['Amount'].mean()\n",
    "stat_by_agency = pd.DataFrame(stat_by_agency)\n",
    "stat_by_agency.columns = ['AVG_amount']\n",
    "stat_by_agency"
   ]
  },
  {
   "cell_type": "code",
   "execution_count": 34,
   "metadata": {},
   "outputs": [
    {
     "data": {
      "text/html": [
       "<div>\n",
       "<style scoped>\n",
       "    .dataframe tbody tr th:only-of-type {\n",
       "        vertical-align: middle;\n",
       "    }\n",
       "\n",
       "    .dataframe tbody tr th {\n",
       "        vertical-align: top;\n",
       "    }\n",
       "\n",
       "    .dataframe thead th {\n",
       "        text-align: right;\n",
       "    }\n",
       "</style>\n",
       "<table border=\"1\" class=\"dataframe\">\n",
       "  <thead>\n",
       "    <tr style=\"text-align: right;\">\n",
       "      <th></th>\n",
       "      <th>Year_Month</th>\n",
       "      <th>Agency_Number</th>\n",
       "      <th>Agency_Name</th>\n",
       "      <th>Cardholder_Last_Name</th>\n",
       "      <th>Cardholder_First_Initial</th>\n",
       "      <th>Description</th>\n",
       "      <th>Amount</th>\n",
       "      <th>Vendor</th>\n",
       "      <th>Transaction_Date</th>\n",
       "      <th>Posted_Date</th>\n",
       "      <th>Merchant_Category</th>\n",
       "      <th>Year</th>\n",
       "      <th>Month</th>\n",
       "      <th>Week_Number</th>\n",
       "      <th>Day_of_Week</th>\n",
       "      <th>AVG_amount</th>\n",
       "      <th>agency_merchant_avg_ratio_amount</th>\n",
       "    </tr>\n",
       "  </thead>\n",
       "  <tbody>\n",
       "    <tr>\n",
       "      <th>0</th>\n",
       "      <td>2013-07-01</td>\n",
       "      <td>1000</td>\n",
       "      <td>OKLAHOMA STATE UNIVERSITY</td>\n",
       "      <td>Mason</td>\n",
       "      <td>C</td>\n",
       "      <td>GENERAL PURCHASE</td>\n",
       "      <td>890.00</td>\n",
       "      <td>NACAS</td>\n",
       "      <td>2013-07-30</td>\n",
       "      <td>2013-07-31</td>\n",
       "      <td>CHARITABLE AND SOCIAL SERVICE ORGANIZATIONS</td>\n",
       "      <td>2013</td>\n",
       "      <td>7</td>\n",
       "      <td>31</td>\n",
       "      <td>Tuesday</td>\n",
       "      <td>427.634060</td>\n",
       "      <td>2.081219</td>\n",
       "    </tr>\n",
       "    <tr>\n",
       "      <th>1</th>\n",
       "      <td>2013-07-01</td>\n",
       "      <td>1000</td>\n",
       "      <td>OKLAHOMA STATE UNIVERSITY</td>\n",
       "      <td>Mason</td>\n",
       "      <td>C</td>\n",
       "      <td>ROOM CHARGES</td>\n",
       "      <td>368.96</td>\n",
       "      <td>SHERATON HOTEL</td>\n",
       "      <td>2013-07-30</td>\n",
       "      <td>2013-07-31</td>\n",
       "      <td>SHERATON</td>\n",
       "      <td>2013</td>\n",
       "      <td>7</td>\n",
       "      <td>31</td>\n",
       "      <td>Tuesday</td>\n",
       "      <td>378.629890</td>\n",
       "      <td>0.974461</td>\n",
       "    </tr>\n",
       "    <tr>\n",
       "      <th>2</th>\n",
       "      <td>2013-07-01</td>\n",
       "      <td>1000</td>\n",
       "      <td>OKLAHOMA STATE UNIVERSITY</td>\n",
       "      <td>Massey</td>\n",
       "      <td>J</td>\n",
       "      <td>GENERAL PURCHASE</td>\n",
       "      <td>165.82</td>\n",
       "      <td>SEARS.COM 9300</td>\n",
       "      <td>2013-07-29</td>\n",
       "      <td>2013-07-31</td>\n",
       "      <td>DIRCT MARKETING/DIRCT MARKETERS--NOT ELSEWHERE...</td>\n",
       "      <td>2013</td>\n",
       "      <td>7</td>\n",
       "      <td>31</td>\n",
       "      <td>Monday</td>\n",
       "      <td>392.459376</td>\n",
       "      <td>0.422515</td>\n",
       "    </tr>\n",
       "    <tr>\n",
       "      <th>3</th>\n",
       "      <td>2013-07-01</td>\n",
       "      <td>1000</td>\n",
       "      <td>OKLAHOMA STATE UNIVERSITY</td>\n",
       "      <td>Massey</td>\n",
       "      <td>T</td>\n",
       "      <td>GENERAL PURCHASE</td>\n",
       "      <td>96.39</td>\n",
       "      <td>WAL-MART #0137</td>\n",
       "      <td>2013-07-30</td>\n",
       "      <td>2013-07-31</td>\n",
       "      <td>GROCERY STORES,AND SUPERMARKETS</td>\n",
       "      <td>2013</td>\n",
       "      <td>7</td>\n",
       "      <td>31</td>\n",
       "      <td>Tuesday</td>\n",
       "      <td>59.832149</td>\n",
       "      <td>1.611007</td>\n",
       "    </tr>\n",
       "    <tr>\n",
       "      <th>4</th>\n",
       "      <td>2013-07-01</td>\n",
       "      <td>1000</td>\n",
       "      <td>OKLAHOMA STATE UNIVERSITY</td>\n",
       "      <td>Mauro-Herrera</td>\n",
       "      <td>M</td>\n",
       "      <td>HAMMERMILL COPY PLUS COPY EA</td>\n",
       "      <td>125.96</td>\n",
       "      <td>STAPLES DIRECT</td>\n",
       "      <td>2013-07-30</td>\n",
       "      <td>2013-07-31</td>\n",
       "      <td>STATIONERY, OFFICE SUPPLIES, PRINTING AND WRIT...</td>\n",
       "      <td>2013</td>\n",
       "      <td>7</td>\n",
       "      <td>31</td>\n",
       "      <td>Tuesday</td>\n",
       "      <td>271.213133</td>\n",
       "      <td>0.464432</td>\n",
       "    </tr>\n",
       "  </tbody>\n",
       "</table>\n",
       "</div>"
      ],
      "text/plain": [
       "  Year_Month  Agency_Number                Agency_Name Cardholder_Last_Name  \\\n",
       "0 2013-07-01           1000  OKLAHOMA STATE UNIVERSITY                Mason   \n",
       "1 2013-07-01           1000  OKLAHOMA STATE UNIVERSITY                Mason   \n",
       "2 2013-07-01           1000  OKLAHOMA STATE UNIVERSITY               Massey   \n",
       "3 2013-07-01           1000  OKLAHOMA STATE UNIVERSITY               Massey   \n",
       "4 2013-07-01           1000  OKLAHOMA STATE UNIVERSITY        Mauro-Herrera   \n",
       "\n",
       "  Cardholder_First_Initial                   Description  Amount  \\\n",
       "0                        C              GENERAL PURCHASE  890.00   \n",
       "1                        C                  ROOM CHARGES  368.96   \n",
       "2                        J              GENERAL PURCHASE  165.82   \n",
       "3                        T              GENERAL PURCHASE   96.39   \n",
       "4                        M  HAMMERMILL COPY PLUS COPY EA  125.96   \n",
       "\n",
       "           Vendor Transaction_Date Posted_Date  \\\n",
       "0           NACAS       2013-07-30  2013-07-31   \n",
       "1  SHERATON HOTEL       2013-07-30  2013-07-31   \n",
       "2  SEARS.COM 9300       2013-07-29  2013-07-31   \n",
       "3  WAL-MART #0137       2013-07-30  2013-07-31   \n",
       "4  STAPLES DIRECT       2013-07-30  2013-07-31   \n",
       "\n",
       "                                   Merchant_Category  Year  Month  \\\n",
       "0        CHARITABLE AND SOCIAL SERVICE ORGANIZATIONS  2013      7   \n",
       "1                                           SHERATON  2013      7   \n",
       "2  DIRCT MARKETING/DIRCT MARKETERS--NOT ELSEWHERE...  2013      7   \n",
       "3                    GROCERY STORES,AND SUPERMARKETS  2013      7   \n",
       "4  STATIONERY, OFFICE SUPPLIES, PRINTING AND WRIT...  2013      7   \n",
       "\n",
       "   Week_Number Day_of_Week  AVG_amount  agency_merchant_avg_ratio_amount  \n",
       "0           31     Tuesday  427.634060                          2.081219  \n",
       "1           31     Tuesday  378.629890                          0.974461  \n",
       "2           31      Monday  392.459376                          0.422515  \n",
       "3           31     Tuesday   59.832149                          1.611007  \n",
       "4           31     Tuesday  271.213133                          0.464432  "
      ]
     },
     "execution_count": 34,
     "metadata": {},
     "output_type": "execute_result"
    }
   ],
   "source": [
    "# add the new feature average spending to the dataset \n",
    "df1 = pd.merge(df, stat_by_agency, how='left', on=['Agency_Name', 'Merchant_Category'])\n",
    "# Feature 1: ratio of amount spending and average spending by merchant category \n",
    "df1['agency_merchant_avg_ratio_amount'] = np.where(df1['AVG_amount']==0,0, df1['Amount'] / df1['AVG_amount'])\n",
    "df1.head(5)"
   ]
  },
  {
   "cell_type": "code",
   "execution_count": 35,
   "metadata": {},
   "outputs": [
    {
     "data": {
      "text/plain": [
       "<AxesSubplot:xlabel='agency_merchant_avg_ratio_amount'>"
      ]
     },
     "execution_count": 35,
     "metadata": {},
     "output_type": "execute_result"
    },
    {
     "data": {
      "image/png": "[encoded data removed]",
      "text/plain": [
       "<Figure size 640x480 with 1 Axes>"
      ]
     },
     "metadata": {},
     "output_type": "display_data"
    }
   ],
   "source": [
    "sns.boxplot(x = 'agency_merchant_avg_ratio_amount', data = df1) "
   ]
  },
  {
   "cell_type": "code",
   "execution_count": 36,
   "metadata": {},
   "outputs": [
    {
     "name": "stdout",
     "output_type": "stream",
     "text": [
      "The threshold for the defined contamination rate: 3.2401655799377465\n"
     ]
    }
   ],
   "source": [
    "x1=pd.DataFrame(df1['agency_merchant_avg_ratio_amount'])\n",
    "# fit HBOS model\n",
    "hbos.fit(x1)\n",
    "\n",
    "# find threshold using built-in function\n",
    "thres1=hbos.threshold_\n",
    "print(\"The threshold for the defined contamination rate:\" , thres1)"
   ]
  },
  {
   "cell_type": "code",
   "execution_count": 16,
   "metadata": {},
   "outputs": [
    {
     "data": {
      "image/png": "[encoded data removed]",
      "text/plain": [
       "<Figure size 640x480 with 1 Axes>"
      ]
     },
     "metadata": {},
     "output_type": "display_data"
    }
   ],
   "source": [
    "# threshold using histogram of the PCA outlier score\n",
    "scores1 = hbos.decision_function(x1)\n",
    "plt.hist(scores1, bins='auto') # arguments are passed to np.histogram\n",
    "plt.title(\"Outlier score\")\n",
    "plt.show()"
   ]
  },
  {
   "cell_type": "code",
   "execution_count": 37,
   "metadata": {},
   "outputs": [
    {
     "data": {
      "text/html": [
       "<div>\n",
       "<style scoped>\n",
       "    .dataframe tbody tr th:only-of-type {\n",
       "        vertical-align: middle;\n",
       "    }\n",
       "\n",
       "    .dataframe tbody tr th {\n",
       "        vertical-align: top;\n",
       "    }\n",
       "\n",
       "    .dataframe thead th {\n",
       "        text-align: right;\n",
       "    }\n",
       "</style>\n",
       "<table border=\"1\" class=\"dataframe\">\n",
       "  <thead>\n",
       "    <tr style=\"text-align: right;\">\n",
       "      <th></th>\n",
       "      <th>Group</th>\n",
       "      <th>Count</th>\n",
       "      <th>Count %</th>\n",
       "      <th>agency_merchant_avg_ratio_amount</th>\n",
       "      <th>Anomaly_Score</th>\n",
       "    </tr>\n",
       "  </thead>\n",
       "  <tbody>\n",
       "    <tr>\n",
       "      <th>0</th>\n",
       "      <td>Normal</td>\n",
       "      <td>417119</td>\n",
       "      <td>94.273129</td>\n",
       "      <td>0.82</td>\n",
       "      <td>1.88</td>\n",
       "    </tr>\n",
       "    <tr>\n",
       "      <th>1</th>\n",
       "      <td>Outlier</td>\n",
       "      <td>25339</td>\n",
       "      <td>5.726871</td>\n",
       "      <td>3.99</td>\n",
       "      <td>3.26</td>\n",
       "    </tr>\n",
       "  </tbody>\n",
       "</table>\n",
       "</div>"
      ],
      "text/plain": [
       "     Group   Count    Count %  agency_merchant_avg_ratio_amount  Anomaly_Score\n",
       "0   Normal  417119  94.273129                              0.82           1.88\n",
       "1  Outlier   25339   5.726871                              3.99           3.26"
      ]
     },
     "execution_count": 37,
     "metadata": {},
     "output_type": "execute_result"
    }
   ],
   "source": [
    "# find outliers based on the threshold\n",
    "descriptive_stat_threshold(x1, scores1, thres1)"
   ]
  },
  {
   "cell_type": "code",
   "execution_count": 38,
   "metadata": {},
   "outputs": [
    {
     "data": {
      "image/png": "[encoded data removed]",
      "text/plain": [
       "<Figure size 640x480 with 1 Axes>"
      ]
     },
     "metadata": {},
     "output_type": "display_data"
    }
   ],
   "source": [
    "# fit aggregated average and plot\n",
    "norm_scores(x1)"
   ]
  },
  {
   "cell_type": "markdown",
   "metadata": {},
   "source": [
    "Summary:  \n",
    "    Solely looking at the amount by Agent_Name and Marchant_Category, we can find out some anomalies. Grouped by Agent_Name Marchant_Category with extreme amount need more attention, since they are charging more frequently than average. \n",
    "    Based on the threshold calculated by the HBOS which is 3.24, the descriptive statistics shows 25339 anomalies, around 5.7%. The large difference in anomaly score verifies the data in the outlier group are outliers."
   ]
  },
  {
   "cell_type": "markdown",
   "metadata": {},
   "source": [
    "## Feature2: The ratio to median amount (Agent_Name, Marchant_Category)"
   ]
  },
  {
   "cell_type": "code",
   "execution_count": 67,
   "metadata": {},
   "outputs": [],
   "source": [
    "# create average spending group by agency and merchant category \n",
    "stat_by_agency = df.groupby(['Agency_Name', 'Merchant_Category'])['Amount'].median() \n",
    "stat_by_agency = pd.DataFrame(stat_by_agency)\n",
    "stat_by_agency.columns = ['Median_amount']"
   ]
  },
  {
   "cell_type": "code",
   "execution_count": 70,
   "metadata": {},
   "outputs": [
    {
     "data": {
      "text/html": [
       "<div>\n",
       "<style scoped>\n",
       "    .dataframe tbody tr th:only-of-type {\n",
       "        vertical-align: middle;\n",
       "    }\n",
       "\n",
       "    .dataframe tbody tr th {\n",
       "        vertical-align: top;\n",
       "    }\n",
       "\n",
       "    .dataframe thead th {\n",
       "        text-align: right;\n",
       "    }\n",
       "</style>\n",
       "<table border=\"1\" class=\"dataframe\">\n",
       "  <thead>\n",
       "    <tr style=\"text-align: right;\">\n",
       "      <th></th>\n",
       "      <th>Year_Month</th>\n",
       "      <th>Agency_Number</th>\n",
       "      <th>Agency_Name</th>\n",
       "      <th>Cardholder_Last_Name</th>\n",
       "      <th>Cardholder_First_Initial</th>\n",
       "      <th>Description</th>\n",
       "      <th>Amount</th>\n",
       "      <th>Vendor</th>\n",
       "      <th>Transaction_Date</th>\n",
       "      <th>Posted_Date</th>\n",
       "      <th>Merchant_Category</th>\n",
       "      <th>Year</th>\n",
       "      <th>Month</th>\n",
       "      <th>Week_Number</th>\n",
       "      <th>Day_of_Week</th>\n",
       "      <th>Median_amount</th>\n",
       "      <th>agency_merchant_median_ratio_amount</th>\n",
       "    </tr>\n",
       "  </thead>\n",
       "  <tbody>\n",
       "    <tr>\n",
       "      <th>0</th>\n",
       "      <td>2013-07-01</td>\n",
       "      <td>1000</td>\n",
       "      <td>OKLAHOMA STATE UNIVERSITY</td>\n",
       "      <td>Mason</td>\n",
       "      <td>C</td>\n",
       "      <td>GENERAL PURCHASE</td>\n",
       "      <td>890.00</td>\n",
       "      <td>NACAS</td>\n",
       "      <td>2013-07-30</td>\n",
       "      <td>2013-07-31</td>\n",
       "      <td>CHARITABLE AND SOCIAL SERVICE ORGANIZATIONS</td>\n",
       "      <td>2013</td>\n",
       "      <td>7</td>\n",
       "      <td>31</td>\n",
       "      <td>Tuesday</td>\n",
       "      <td>250.000</td>\n",
       "      <td>3.560000</td>\n",
       "    </tr>\n",
       "    <tr>\n",
       "      <th>1</th>\n",
       "      <td>2013-07-01</td>\n",
       "      <td>1000</td>\n",
       "      <td>OKLAHOMA STATE UNIVERSITY</td>\n",
       "      <td>Mason</td>\n",
       "      <td>C</td>\n",
       "      <td>ROOM CHARGES</td>\n",
       "      <td>368.96</td>\n",
       "      <td>SHERATON HOTEL</td>\n",
       "      <td>2013-07-30</td>\n",
       "      <td>2013-07-31</td>\n",
       "      <td>SHERATON</td>\n",
       "      <td>2013</td>\n",
       "      <td>7</td>\n",
       "      <td>31</td>\n",
       "      <td>Tuesday</td>\n",
       "      <td>262.090</td>\n",
       "      <td>1.407761</td>\n",
       "    </tr>\n",
       "    <tr>\n",
       "      <th>2</th>\n",
       "      <td>2013-07-01</td>\n",
       "      <td>1000</td>\n",
       "      <td>OKLAHOMA STATE UNIVERSITY</td>\n",
       "      <td>Massey</td>\n",
       "      <td>J</td>\n",
       "      <td>GENERAL PURCHASE</td>\n",
       "      <td>165.82</td>\n",
       "      <td>SEARS.COM 9300</td>\n",
       "      <td>2013-07-29</td>\n",
       "      <td>2013-07-31</td>\n",
       "      <td>DIRCT MARKETING/DIRCT MARKETERS--NOT ELSEWHERE...</td>\n",
       "      <td>2013</td>\n",
       "      <td>7</td>\n",
       "      <td>31</td>\n",
       "      <td>Monday</td>\n",
       "      <td>171.510</td>\n",
       "      <td>0.966824</td>\n",
       "    </tr>\n",
       "    <tr>\n",
       "      <th>3</th>\n",
       "      <td>2013-07-01</td>\n",
       "      <td>1000</td>\n",
       "      <td>OKLAHOMA STATE UNIVERSITY</td>\n",
       "      <td>Massey</td>\n",
       "      <td>T</td>\n",
       "      <td>GENERAL PURCHASE</td>\n",
       "      <td>96.39</td>\n",
       "      <td>WAL-MART #0137</td>\n",
       "      <td>2013-07-30</td>\n",
       "      <td>2013-07-31</td>\n",
       "      <td>GROCERY STORES,AND SUPERMARKETS</td>\n",
       "      <td>2013</td>\n",
       "      <td>7</td>\n",
       "      <td>31</td>\n",
       "      <td>Tuesday</td>\n",
       "      <td>32.485</td>\n",
       "      <td>2.967216</td>\n",
       "    </tr>\n",
       "    <tr>\n",
       "      <th>4</th>\n",
       "      <td>2013-07-01</td>\n",
       "      <td>1000</td>\n",
       "      <td>OKLAHOMA STATE UNIVERSITY</td>\n",
       "      <td>Mauro-Herrera</td>\n",
       "      <td>M</td>\n",
       "      <td>HAMMERMILL COPY PLUS COPY EA</td>\n",
       "      <td>125.96</td>\n",
       "      <td>STAPLES DIRECT</td>\n",
       "      <td>2013-07-30</td>\n",
       "      <td>2013-07-31</td>\n",
       "      <td>STATIONERY, OFFICE SUPPLIES, PRINTING AND WRIT...</td>\n",
       "      <td>2013</td>\n",
       "      <td>7</td>\n",
       "      <td>31</td>\n",
       "      <td>Tuesday</td>\n",
       "      <td>110.115</td>\n",
       "      <td>1.143895</td>\n",
       "    </tr>\n",
       "  </tbody>\n",
       "</table>\n",
       "</div>"
      ],
      "text/plain": [
       "  Year_Month  Agency_Number                Agency_Name Cardholder_Last_Name  \\\n",
       "0 2013-07-01           1000  OKLAHOMA STATE UNIVERSITY                Mason   \n",
       "1 2013-07-01           1000  OKLAHOMA STATE UNIVERSITY                Mason   \n",
       "2 2013-07-01           1000  OKLAHOMA STATE UNIVERSITY               Massey   \n",
       "3 2013-07-01           1000  OKLAHOMA STATE UNIVERSITY               Massey   \n",
       "4 2013-07-01           1000  OKLAHOMA STATE UNIVERSITY        Mauro-Herrera   \n",
       "\n",
       "  Cardholder_First_Initial                   Description  Amount  \\\n",
       "0                        C              GENERAL PURCHASE  890.00   \n",
       "1                        C                  ROOM CHARGES  368.96   \n",
       "2                        J              GENERAL PURCHASE  165.82   \n",
       "3                        T              GENERAL PURCHASE   96.39   \n",
       "4                        M  HAMMERMILL COPY PLUS COPY EA  125.96   \n",
       "\n",
       "           Vendor Transaction_Date Posted_Date  \\\n",
       "0           NACAS       2013-07-30  2013-07-31   \n",
       "1  SHERATON HOTEL       2013-07-30  2013-07-31   \n",
       "2  SEARS.COM 9300       2013-07-29  2013-07-31   \n",
       "3  WAL-MART #0137       2013-07-30  2013-07-31   \n",
       "4  STAPLES DIRECT       2013-07-30  2013-07-31   \n",
       "\n",
       "                                   Merchant_Category  Year  Month  \\\n",
       "0        CHARITABLE AND SOCIAL SERVICE ORGANIZATIONS  2013      7   \n",
       "1                                           SHERATON  2013      7   \n",
       "2  DIRCT MARKETING/DIRCT MARKETERS--NOT ELSEWHERE...  2013      7   \n",
       "3                    GROCERY STORES,AND SUPERMARKETS  2013      7   \n",
       "4  STATIONERY, OFFICE SUPPLIES, PRINTING AND WRIT...  2013      7   \n",
       "\n",
       "   Week_Number Day_of_Week  Median_amount  agency_merchant_median_ratio_amount  \n",
       "0           31     Tuesday        250.000                             3.560000  \n",
       "1           31     Tuesday        262.090                             1.407761  \n",
       "2           31      Monday        171.510                             0.966824  \n",
       "3           31     Tuesday         32.485                             2.967216  \n",
       "4           31     Tuesday        110.115                             1.143895  "
      ]
     },
     "execution_count": 70,
     "metadata": {},
     "output_type": "execute_result"
    }
   ],
   "source": [
    "# add the new feature average spending to the dataset \n",
    "df2 = pd.merge(df, stat_by_agency, how='left', on=['Agency_Name', 'Merchant_Category'])\n",
    "# Feature 1: ratio of amount spending and avergae spending by merchant category \n",
    "df2['agency_merchant_median_ratio_amount'] = np.where(df2['Median_amount']==0,0, df2['Amount'] / df2['Median_amount'])\n",
    "df2.head()"
   ]
  },
  {
   "cell_type": "code",
   "execution_count": 73,
   "metadata": {},
   "outputs": [
    {
     "data": {
      "text/plain": [
       "count    442458.000000\n",
       "mean          4.952685\n",
       "std        1078.581350\n",
       "min       -1003.176471\n",
       "25%           0.466090\n",
       "50%           1.000000\n",
       "75%           2.121102\n",
       "max      528116.052705\n",
       "Name: agency_merchant_median_ratio_amount, dtype: float64"
      ]
     },
     "execution_count": 73,
     "metadata": {},
     "output_type": "execute_result"
    }
   ],
   "source": [
    "df2['agency_merchant_median_ratio_amount'].describe()"
   ]
  },
  {
   "cell_type": "code",
   "execution_count": 74,
   "metadata": {},
   "outputs": [
    {
     "data": {
      "text/plain": [
       "<AxesSubplot:xlabel='agency_merchant_median_ratio_amount'>"
      ]
     },
     "execution_count": 74,
     "metadata": {},
     "output_type": "execute_result"
    },
    {
     "data": {
      "image/png": "[encoded data removed]",
      "text/plain": [
       "<Figure size 640x480 with 1 Axes>"
      ]
     },
     "metadata": {},
     "output_type": "display_data"
    }
   ],
   "source": [
    "sns.boxplot(x = 'agency_merchant_median_ratio_amount', data = df2) "
   ]
  },
  {
   "cell_type": "code",
   "execution_count": 114,
   "metadata": {},
   "outputs": [],
   "source": [
    "# Reset up model\n",
    "n_bins = 10000\n",
    "hbos = HBOS(n_bins=n_bins,contamination=0.05)"
   ]
  },
  {
   "cell_type": "code",
   "execution_count": 115,
   "metadata": {},
   "outputs": [
    {
     "name": "stdout",
     "output_type": "stream",
     "text": [
      "The threshold for the defined contamination rate: 3.2569627642450554\n"
     ]
    }
   ],
   "source": [
    "x2=pd.DataFrame(df2['agency_merchant_median_ratio_amount'])\n",
    "# fit HBOS model\n",
    "hbos.fit(x2)\n",
    "\n",
    "# find threshold using built-in function\n",
    "thres2=hbos.threshold_\n",
    "print(\"The threshold for the defined contamination rate:\" , thres2)"
   ]
  },
  {
   "cell_type": "code",
   "execution_count": 116,
   "metadata": {},
   "outputs": [
    {
     "data": {
      "image/png": "[encoded data removed]",
      "text/plain": [
       "<Figure size 640x480 with 1 Axes>"
      ]
     },
     "metadata": {},
     "output_type": "display_data"
    }
   ],
   "source": [
    "# threshold using histogram of the PCA outlier score\n",
    "scores2 = hbos.decision_function(x2)\n",
    "plt.hist(scores2, bins='auto') # arguments are passed to np.histogram\n",
    "plt.title(\"Outlier score\")\n",
    "plt.show()"
   ]
  },
  {
   "cell_type": "code",
   "execution_count": 117,
   "metadata": {},
   "outputs": [
    {
     "data": {
      "text/html": [
       "<div>\n",
       "<style scoped>\n",
       "    .dataframe tbody tr th:only-of-type {\n",
       "        vertical-align: middle;\n",
       "    }\n",
       "\n",
       "    .dataframe tbody tr th {\n",
       "        vertical-align: top;\n",
       "    }\n",
       "\n",
       "    .dataframe thead th {\n",
       "        text-align: right;\n",
       "    }\n",
       "</style>\n",
       "<table border=\"1\" class=\"dataframe\">\n",
       "  <thead>\n",
       "    <tr style=\"text-align: right;\">\n",
       "      <th></th>\n",
       "      <th>Group</th>\n",
       "      <th>Count</th>\n",
       "      <th>Count %</th>\n",
       "      <th>agency_merchant_median_ratio_amount</th>\n",
       "      <th>Anomaly_Score</th>\n",
       "    </tr>\n",
       "  </thead>\n",
       "  <tbody>\n",
       "    <tr>\n",
       "      <th>0</th>\n",
       "      <td>Normal</td>\n",
       "      <td>333187</td>\n",
       "      <td>75.303645</td>\n",
       "      <td>0.73</td>\n",
       "      <td>3.13</td>\n",
       "    </tr>\n",
       "    <tr>\n",
       "      <th>1</th>\n",
       "      <td>Outlier</td>\n",
       "      <td>109271</td>\n",
       "      <td>24.696355</td>\n",
       "      <td>17.84</td>\n",
       "      <td>3.26</td>\n",
       "    </tr>\n",
       "  </tbody>\n",
       "</table>\n",
       "</div>"
      ],
      "text/plain": [
       "     Group   Count    Count %  agency_merchant_median_ratio_amount  \\\n",
       "0   Normal  333187  75.303645                                 0.73   \n",
       "1  Outlier  109271  24.696355                                17.84   \n",
       "\n",
       "   Anomaly_Score  \n",
       "0           3.13  \n",
       "1           3.26  "
      ]
     },
     "execution_count": 117,
     "metadata": {},
     "output_type": "execute_result"
    }
   ],
   "source": [
    "# find outliers based on the threshold\n",
    "descriptive_stat_threshold(x2, scores2, thres2)"
   ]
  },
  {
   "cell_type": "code",
   "execution_count": 132,
   "metadata": {},
   "outputs": [
    {
     "data": {
      "image/png": "[encoded data removed]",
      "text/plain": [
       "<Figure size 640x480 with 1 Axes>"
      ]
     },
     "metadata": {},
     "output_type": "display_data"
    }
   ],
   "source": [
    "# fit aggregated average and plot\n",
    "norm_scores(x2)"
   ]
  },
  {
   "cell_type": "markdown",
   "metadata": {},
   "source": [
    "Summary:"
   ]
  },
  {
   "cell_type": "markdown",
   "metadata": {},
   "source": [
    "Summary:\n",
    "    This is a very interesting experience, which just changed mean to median but the result shows the difference. Originally, I use the same bin size of 1000, but it shows 100% outliers so I have to change the bin size to 10000 (I encountered the same issue in the feature 1 which the first attempt with bin size of 50 produced 100% outliers until I changed the bin size to 1000), and the result shows there are 109271 outliers which represents 24.69% of dataset. Therefore, the attention has to be rasied for using HBOS with the bin size."
   ]
  },
  {
   "cell_type": "markdown",
   "metadata": {},
   "source": [
    "# Section5: ECOD\n",
    "    ECOD uses the skewness of distribution to assign the outlier score for a dimension. Then it aggregates the univariate outlier scores across all dimensions to get the overall outlier score for an observation. It derives the cumulative distribution empirically for a variable."
   ]
  },
  {
   "cell_type": "markdown",
   "metadata": {},
   "source": [
    "## 5.1: Build Model"
   ]
  },
  {
   "cell_type": "code",
   "execution_count": 121,
   "metadata": {},
   "outputs": [],
   "source": [
    "# Set up ECOD model\n",
    "ecod = ECOD(contamination=0.05)"
   ]
  },
  {
   "cell_type": "markdown",
   "metadata": {},
   "source": [
    "## Section 5.2 Summary Statistics"
   ]
  },
  {
   "cell_type": "code",
   "execution_count": 122,
   "metadata": {},
   "outputs": [],
   "source": [
    "def descriptive_stat_threshold(df, pred_score, threshold):\n",
    "    # Let's see how many '0's and '1's.\n",
    "    df = pd.DataFrame(df)\n",
    "    data = df.copy()\n",
    "    data['Anomaly_Score'] = pred_score\n",
    "    data['Group'] = np.where(data['Anomaly_Score']< threshold, 'Normal', 'Outlier')\n",
    "\n",
    "    # Now let's show the summary statistics:\n",
    "    cnt = data.groupby('Group')['Anomaly_Score'].count().reset_index().rename(columns={'Anomaly_Score':'Count'})\n",
    "    cnt['Count %'] = (cnt['Count'] / cnt['Count'].sum()) * 100 # The count and count %\n",
    "    stat = data.groupby('Group').mean().round(2).reset_index() # The avg.\n",
    "    stat = cnt.merge(stat, left_on='Group',right_on='Group') # Put the count and the avg. together\n",
    "    return (stat)"
   ]
  },
  {
   "cell_type": "markdown",
   "metadata": {},
   "source": [
    "The table shows the characteristics of the normal and abnormal groups. The “Anomaly_Score” is the average anomaly score, large difference of this score verifies the data in the outlier group are outliers."
   ]
  },
  {
   "cell_type": "markdown",
   "metadata": {},
   "source": [
    "## Feature 3: Feature1 with ECOD model"
   ]
  },
  {
   "cell_type": "code",
   "execution_count": 126,
   "metadata": {},
   "outputs": [
    {
     "name": "stdout",
     "output_type": "stream",
     "text": [
      "The threshold for the ECOD defined contamination rate: 3.6888297331165227\n"
     ]
    }
   ],
   "source": [
    "##### fit ECOD model #####\n",
    "ecod = ECOD(contamination=0.05)\n",
    "ecod1=ecod.fit(x1)\n",
    "\n",
    "# find threshold using built-in function\n",
    "print(\"The threshold for the ECOD defined contamination rate:\" , ecod1.threshold_)"
   ]
  },
  {
   "cell_type": "code",
   "execution_count": 124,
   "metadata": {},
   "outputs": [
    {
     "data": {
      "image/png": "[encoded data removed]",
      "text/plain": [
       "<Figure size 640x480 with 1 Axes>"
      ]
     },
     "metadata": {},
     "output_type": "display_data"
    }
   ],
   "source": [
    "# threshold using histogram of the ECOD outlier score\n",
    "plt.hist(ecod1.decision_function(x1), bins='auto') # arguments are passed to np.histogram\n",
    "plt.title(\"Outlier score\")\n",
    "plt.show()"
   ]
  },
  {
   "cell_type": "code",
   "execution_count": 125,
   "metadata": {},
   "outputs": [
    {
     "data": {
      "text/html": [
       "<div>\n",
       "<style scoped>\n",
       "    .dataframe tbody tr th:only-of-type {\n",
       "        vertical-align: middle;\n",
       "    }\n",
       "\n",
       "    .dataframe tbody tr th {\n",
       "        vertical-align: top;\n",
       "    }\n",
       "\n",
       "    .dataframe thead th {\n",
       "        text-align: right;\n",
       "    }\n",
       "</style>\n",
       "<table border=\"1\" class=\"dataframe\">\n",
       "  <thead>\n",
       "    <tr style=\"text-align: right;\">\n",
       "      <th></th>\n",
       "      <th>Group</th>\n",
       "      <th>Count</th>\n",
       "      <th>Count %</th>\n",
       "      <th>agency_merchant_avg_ratio_amount</th>\n",
       "      <th>Anomaly_Score</th>\n",
       "    </tr>\n",
       "  </thead>\n",
       "  <tbody>\n",
       "    <tr>\n",
       "      <th>0</th>\n",
       "      <td>Normal</td>\n",
       "      <td>420334</td>\n",
       "      <td>94.999751</td>\n",
       "      <td>0.81</td>\n",
       "      <td>1.54</td>\n",
       "    </tr>\n",
       "    <tr>\n",
       "      <th>1</th>\n",
       "      <td>Outlier</td>\n",
       "      <td>22124</td>\n",
       "      <td>5.000249</td>\n",
       "      <td>4.64</td>\n",
       "      <td>4.69</td>\n",
       "    </tr>\n",
       "  </tbody>\n",
       "</table>\n",
       "</div>"
      ],
      "text/plain": [
       "     Group   Count    Count %  agency_merchant_avg_ratio_amount  Anomaly_Score\n",
       "0   Normal  420334  94.999751                              0.81           1.54\n",
       "1  Outlier   22124   5.000249                              4.64           4.69"
      ]
     },
     "execution_count": 125,
     "metadata": {},
     "output_type": "execute_result"
    }
   ],
   "source": [
    "# find outliers based on the ECOD threshold\n",
    "descriptive_stat_threshold(x1, ecod1.decision_function(x1), ecod1.threshold_)"
   ]
  },
  {
   "cell_type": "markdown",
   "metadata": {},
   "source": [
    "Summary:\n",
    "    Solely looking at the amount by Agent_Name and Marchant_Category, we can find out some anomalies. Grouped by Agent_Name Marchant_Category with extreme amount need more attention, since they are charging more frequently than average. \n",
    "    Based on the threshold calculated by the ECOD which is 3.68, the descriptive statistics shows 22124 anomalies, around 5%. The large difference in anomaly score verifies the data in the outlier group are outliers. Also, compared to HBOS method, it shows less outliers."
   ]
  },
  {
   "cell_type": "markdown",
   "metadata": {},
   "source": [
    "## Feature 4: Feature2 with ECOD model"
   ]
  },
  {
   "cell_type": "code",
   "execution_count": 130,
   "metadata": {},
   "outputs": [
    {
     "name": "stdout",
     "output_type": "stream",
     "text": [
      "The threshold for the ECOD defined contamination rate: 3.6888297331165227\n"
     ]
    }
   ],
   "source": [
    "##### fit ECOD model #####\n",
    "ecod = ECOD(contamination=0.05)\n",
    "ecod2=ecod.fit(x2)\n",
    "\n",
    "# find threshold using built-in function\n",
    "print(\"The threshold for the ECOD defined contamination rate:\" , ecod2.threshold_)"
   ]
  },
  {
   "cell_type": "code",
   "execution_count": 131,
   "metadata": {},
   "outputs": [
    {
     "data": {
      "image/png": "[encoded data removed]",
      "text/plain": [
       "<Figure size 640x480 with 1 Axes>"
      ]
     },
     "metadata": {},
     "output_type": "display_data"
    }
   ],
   "source": [
    "# threshold using histogram of the ECOD outlier score\n",
    "plt.hist(ecod2.decision_function(x2), bins='auto') # arguments are passed to np.histogram\n",
    "plt.title(\"Outlier score\")\n",
    "plt.show()"
   ]
  },
  {
   "cell_type": "code",
   "execution_count": 129,
   "metadata": {},
   "outputs": [
    {
     "data": {
      "text/html": [
       "<div>\n",
       "<style scoped>\n",
       "    .dataframe tbody tr th:only-of-type {\n",
       "        vertical-align: middle;\n",
       "    }\n",
       "\n",
       "    .dataframe tbody tr th {\n",
       "        vertical-align: top;\n",
       "    }\n",
       "\n",
       "    .dataframe thead th {\n",
       "        text-align: right;\n",
       "    }\n",
       "</style>\n",
       "<table border=\"1\" class=\"dataframe\">\n",
       "  <thead>\n",
       "    <tr style=\"text-align: right;\">\n",
       "      <th></th>\n",
       "      <th>Group</th>\n",
       "      <th>Count</th>\n",
       "      <th>Count %</th>\n",
       "      <th>agency_merchant_median_ratio_amount</th>\n",
       "      <th>Anomaly_Score</th>\n",
       "    </tr>\n",
       "  </thead>\n",
       "  <tbody>\n",
       "    <tr>\n",
       "      <th>0</th>\n",
       "      <td>Normal</td>\n",
       "      <td>420334</td>\n",
       "      <td>94.999751</td>\n",
       "      <td>1.81</td>\n",
       "      <td>1.53</td>\n",
       "    </tr>\n",
       "    <tr>\n",
       "      <th>1</th>\n",
       "      <td>Outlier</td>\n",
       "      <td>22124</td>\n",
       "      <td>5.000249</td>\n",
       "      <td>64.57</td>\n",
       "      <td>4.69</td>\n",
       "    </tr>\n",
       "  </tbody>\n",
       "</table>\n",
       "</div>"
      ],
      "text/plain": [
       "     Group   Count    Count %  agency_merchant_median_ratio_amount  \\\n",
       "0   Normal  420334  94.999751                                 1.81   \n",
       "1  Outlier   22124   5.000249                                64.57   \n",
       "\n",
       "   Anomaly_Score  \n",
       "0           1.53  \n",
       "1           4.69  "
      ]
     },
     "execution_count": 129,
     "metadata": {},
     "output_type": "execute_result"
    }
   ],
   "source": [
    "# find outliers based on the ECOD threshold\n",
    "descriptive_stat_threshold(x2, ecod2.decision_function(x2), ecod2.threshold_)"
   ]
  },
  {
   "cell_type": "markdown",
   "metadata": {},
   "source": [
    "Summary:\n",
    "    This shows a very interesting result, which it works really well with 5% outliers compared to the feature 2 (In feature2, it shows 25% outliers) which the features are the same but different anomaly detection method(HBOS vs ECOD). In ECOD, the threshold is set at 3.688 and there are 22124 outliers which is the same as feature 3."
   ]
  }
 ],
 "metadata": {
  "kernelspec": {
   "display_name": "base",
   "language": "python",
   "name": "python3"
  },
  "language_info": {
   "codemirror_mode": {
    "name": "ipython",
    "version": 3
   },
   "file_extension": ".py",
   "mimetype": "text/x-python",
   "name": "python",
   "nbconvert_exporter": "python",
   "pygments_lexer": "ipython3",
   "version": "3.9.13"
  }
 },
 "nbformat": 4,
 "nbformat_minor": 2
}
